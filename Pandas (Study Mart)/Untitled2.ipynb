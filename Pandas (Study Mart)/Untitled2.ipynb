{
 "cells": [
  {
   "cell_type": "markdown",
   "id": "81890d65-8b28-4b2c-af57-f70e8f3acd44",
   "metadata": {},
   "source": [
    "# Data types\n"
   ]
  },
  {
   "cell_type": "code",
   "execution_count": 4,
   "id": "7f8d1831-75bc-4790-acd7-3777c9fb9ab1",
   "metadata": {},
   "outputs": [],
   "source": [
    "import pandas as pd\n",
    "\n"
   ]
  },
  {
   "cell_type": "code",
   "execution_count": 6,
   "id": "7ac65210-2d5d-42f6-b6c7-b5446eca9d8b",
   "metadata": {},
   "outputs": [
    {
     "name": "stdout",
     "output_type": "stream",
     "text": [
      "   A    B       C      D          E\n",
      "0  1  1.2   apple   True 2022-01-01\n",
      "1  2  2.5  banana  False 2023-06-15\n",
      "2  3  3.8  cherry   True 2024-03-10\n",
      "<class 'pandas.core.frame.DataFrame'>\n"
     ]
    }
   ],
   "source": [
    "# Creating a DataFrame with multiple data types\n",
    "\n",
    "x = pd.DataFrame({\n",
    "    'A': [1, 2, 3],  # Integer column\n",
    "    'B': [1.2, 2.5, 3.8],  # Float column\n",
    "    'C': ['apple', 'banana', 'cherry'],  # String (object) column\n",
    "    'D': [True, False, True],  # Boolean column\n",
    "    'E': pd.to_datetime(['2022-01-01', '2023-06-15', '2024-03-10'])  # DateTime column\n",
    "})\n",
    "\n",
    "print(x)  # Print the DataFrame\n",
    "\n",
    "# Check the type of x\n",
    "print(type(x))  \n"
   ]
  },
  {
   "cell_type": "code",
   "execution_count": 7,
   "id": "7f02d0f0-6e27-4b73-bd1a-68465acfbbd4",
   "metadata": {},
   "outputs": [
    {
     "name": "stdout",
     "output_type": "stream",
     "text": [
      "A             int64\n",
      "B           float64\n",
      "C            object\n",
      "D              bool\n",
      "E    datetime64[ns]\n",
      "dtype: object\n"
     ]
    }
   ],
   "source": [
    "#checking data types \n",
    "\n",
    "print(x.dtypes)\n"
   ]
  },
  {
   "cell_type": "code",
   "execution_count": 10,
   "id": "ed409c1b-d696-4c97-b817-4b3529714282",
   "metadata": {},
   "outputs": [
    {
     "name": "stdout",
     "output_type": "stream",
     "text": [
      "     A    B       C      D           E\n",
      "0  1.0  1.2   apple   True  2022-01-01\n",
      "1  2.0  2.5  banana  False  2023-06-15\n",
      "2  3.0  3.8  cherry   True  2024-03-10\n"
     ]
    }
   ],
   "source": [
    "#converting datatypes\n",
    "\n",
    "x['A'] = x['A'].astype(float)  # Convert int to float\n",
    "x['C'] = x['C'].astype('category')  # Convert object to category\n",
    "x['E'] = x['E'].astype('string')  # Convert datetime to string\n",
    "print(x)"
   ]
  },
  {
   "cell_type": "code",
   "execution_count": 11,
   "id": "f810e1af-f456-437d-a500-fab4b84fe5f2",
   "metadata": {},
   "outputs": [
    {
     "name": "stdout",
     "output_type": "stream",
     "text": [
      "A           float64\n",
      "B           float64\n",
      "C          category\n",
      "D              bool\n",
      "E    string[python]\n",
      "dtype: object\n"
     ]
    }
   ],
   "source": [
    "print(x.dtypes)"
   ]
  },
  {
   "cell_type": "code",
   "execution_count": null,
   "id": "994c32ef-be33-49f9-9a17-b6fc34012086",
   "metadata": {},
   "outputs": [],
   "source": []
  }
 ],
 "metadata": {
  "kernelspec": {
   "display_name": "Python 3 (ipykernel)",
   "language": "python",
   "name": "python3"
  },
  "language_info": {
   "codemirror_mode": {
    "name": "ipython",
    "version": 3
   },
   "file_extension": ".py",
   "mimetype": "text/x-python",
   "name": "python",
   "nbconvert_exporter": "python",
   "pygments_lexer": "ipython3",
   "version": "3.12.7"
  }
 },
 "nbformat": 4,
 "nbformat_minor": 5
}
